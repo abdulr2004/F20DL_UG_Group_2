{
 "cells": [
  {
   "cell_type": "code",
   "execution_count": null,
   "id": "cc9ff29b-77da-4150-842e-f12a3692ba11",
   "metadata": {},
   "outputs": [],
   "source": [
    "import os\n",
    "import cv2\n",
    "import numpy as np\n",
    "from PIL import Image\n",
    "import matplotlib.pyplot as plt\n",
    "import zipfile\n",
    "\n",
    "zip_file_path = r\"C:\\Users\\prudh\\Desktop\\Datadl.zip\"  #change the directory of the zip file"
   ]
  },
  {
   "cell_type": "code",
   "execution_count": 45,
   "id": "816d44b7-3ed3-4447-8ad2-b5836df328c8",
   "metadata": {},
   "outputs": [
    {
     "name": "stdout",
     "output_type": "stream",
     "text": [
      "Extracted all files to: C:\\Users\\prudh\\Desktop\\data\n"
     ]
    }
   ],
   "source": [
    "# Create a new directory named \"data\" within the same path\n",
    "zip_file_directory = os.path.dirname(zip_file_path)\n",
    "new_directory_name = \"data\"  # Name of the new folder\n",
    "base_path = os.path.join(zip_file_directory, new_directory_name)\n",
    "\n",
    "# Create the new directory if it doesn't exist\n",
    "os.makedirs(base_path, exist_ok=True)\n",
    "\n",
    "try:\n",
    "    # Open the zip file\n",
    "    with zipfile.ZipFile(zip_file_path, 'r') as zip_ref:\n",
    "        # Extract all contents into the \"data\" directory\n",
    "        zip_ref.extractall(base_path)\n",
    "        print(f\"Extracted all files to: {base_path}\")\n",
    "except FileNotFoundError:\n",
    "    print(f\"The file {zip_file_path} does not exist.\")\n",
    "except zipfile.BadZipFile:\n",
    "    print(f\"The file {zip_file_path} is not a valid zip file.\")\n"
   ]
  },
  {
   "cell_type": "markdown",
   "id": "d473a9be",
   "metadata": {},
   "source": [
    "## Image Pre Processing\n",
    "#### Resizing Images to 128x128\n",
    "#### Normalizing pixel values\n"
   ]
  },
  {
   "cell_type": "code",
   "execution_count": 63,
   "id": "595e89f3",
   "metadata": {},
   "outputs": [],
   "source": [
    "data_file = os.path.join(base_path, \"Datadl\")  # Replace \"datadl\" with the actual filename\n"
   ]
  },
  {
   "cell_type": "code",
   "execution_count": 65,
   "id": "f9d6f703",
   "metadata": {},
   "outputs": [],
   "source": [
    "def load_and_preprocess_images(data_file, target_size=(128, 128)):\n",
    "    # Dictionary to hold processed images categorized by their class\n",
    "    preprocessed_data = {}\n",
    "\n",
    "    # Loop through each category folder (Healthy, Miner, Phoma, Leaf Rust, Cerscospora)\n",
    "    for class_folder in os.listdir(data_file):\n",
    "        class_path = os.path.join(data_file, class_folder)\n",
    "        if os.path.isdir(class_path):\n",
    "            images = []\n",
    "            \n",
    "            # Loop through each image in the class folder\n",
    "            for img_file in os.listdir(class_path):\n",
    "                img_path = os.path.join(class_path, img_file)\n",
    "                image = Image.open(img_path)\n",
    "                \n",
    "                # Preprocessing steps\n",
    "                processed_img = preprocess_image(image, target_size)\n",
    "                \n",
    "                # Append processed image to list\n",
    "                images.append(processed_img)\n",
    "            \n",
    "            # Add to dictionary\n",
    "            preprocessed_data[class_folder] = images\n",
    "\n",
    "    return preprocessed_data"
   ]
  },
  {
   "cell_type": "code",
   "execution_count": 67,
   "id": "726a36ea",
   "metadata": {},
   "outputs": [],
   "source": [
    "def preprocess_image(image, target_size):\n",
    "    \n",
    "    # 1. Resize Images \n",
    "    image = image.resize(target_size)\n",
    "    \n",
    "    # 2. Normalize pixel values\n",
    "    image = np.array(image) / 255.0  # Convert to numpy array and scale\n",
    "    return image"
   ]
  },
  {
   "cell_type": "code",
   "execution_count": 69,
   "id": "42f3d798",
   "metadata": {},
   "outputs": [],
   "source": [
    "# Process all images\n",
    "preprocessed_data = load_and_preprocess_images(data_file)"
   ]
  },
  {
   "cell_type": "code",
   "execution_count": 61,
   "id": "5c5bb169-9e2e-4f01-892c-61f2fc9dbd8a",
   "metadata": {},
   "outputs": [
    {
     "name": "stdout",
     "output_type": "stream",
     "text": [
      "True\n"
     ]
    }
   ],
   "source": []
  },
  {
   "cell_type": "markdown",
   "id": "2120ac14",
   "metadata": {},
   "source": [
    "#### Saving pre processed images"
   ]
  },
  {
   "cell_type": "code",
   "execution_count": null,
   "id": "b6f04b77",
   "metadata": {},
   "outputs": [
    {
     "name": "stdout",
     "output_type": "stream",
     "text": [
      "Created directory for preprocessed data: C:\\Users\\prudh\\Desktop\\data\\preprocessed\n"
     ]
    }
   ],
   "source": [
    "# Create a new directory named \"preprocessed\" inside the base_path\n",
    "output_path = os.path.join(base_path, \"preprocessed\")  # Path to the new directory\n",
    "\n",
    "# Create the \"preprocessed\" directory if it doesn't exist\n",
    "os.makedirs(output_path, exist_ok=True)\n",
    "\n",
    "print(f\"Created directory for preprocessed data: {output_path}\")\n",
    "\n",
    "for class_name, images in preprocessed_data.items():\n",
    "    class_output_path = os.path.join(output_path, class_name)\n",
    "    os.makedirs(class_output_path, exist_ok=True)\n",
    "    \n",
    "    for i, img in enumerate(images):\n",
    "        img = (img * 255).astype(np.uint8)  # Convert back to 8-bit values\n",
    "        img_pil = Image.fromarray(img)\n",
    "        img_pil.save(os.path.join(class_output_path, f\"{class_name}_{i}.png\"))\n"
   ]
  },
  {
   "cell_type": "code",
   "execution_count": null,
   "id": "c693e97f",
   "metadata": {},
   "outputs": [],
   "source": []
  },
  {
   "cell_type": "code",
   "execution_count": null,
   "id": "bd16e475",
   "metadata": {},
   "outputs": [],
   "source": []
  }
 ],
 "metadata": {
  "kernelspec": {
   "display_name": "Python 3 (ipykernel)",
   "language": "python",
   "name": "python3"
  },
  "language_info": {
   "codemirror_mode": {
    "name": "ipython",
    "version": 3
   },
   "file_extension": ".py",
   "mimetype": "text/x-python",
   "name": "python",
   "nbconvert_exporter": "python",
   "pygments_lexer": "ipython3",
   "version": "3.12.4"
  }
 },
 "nbformat": 4,
 "nbformat_minor": 5
}
